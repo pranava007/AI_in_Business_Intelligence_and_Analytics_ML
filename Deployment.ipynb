{
 "cells": [
  {
   "cell_type": "code",
   "execution_count": 17,
   "id": "212d3903-d4d7-4010-b82e-68bec55f72df",
   "metadata": {},
   "outputs": [
    {
     "name": "stderr",
     "output_type": "stream",
     "text": [
      "C:\\Anoconda3\\Lib\\site-packages\\sklearn\\base.py:493: UserWarning: X does not have valid feature names, but LinearRegression was fitted with feature names\n",
      "  warnings.warn(\n"
     ]
    }
   ],
   "source": [
    "import pickle\n",
    "load_model = pickle.load(open('finalized_model_multi_linear.sav','rb'))\n",
    "result = load_model.predict([[300,400,300,1,0]])\n"
   ]
  },
  {
   "cell_type": "code",
   "execution_count": 19,
   "id": "c6ab9b40-70df-4eb3-a53b-ed33d1f74331",
   "metadata": {},
   "outputs": [
    {
     "data": {
      "text/plain": [
       "array([[43125.53512211]])"
      ]
     },
     "execution_count": 19,
     "metadata": {},
     "output_type": "execute_result"
    }
   ],
   "source": [
    "result"
   ]
  },
  {
   "cell_type": "code",
   "execution_count": null,
   "id": "935d644e-b536-4d33-9731-81575a790113",
   "metadata": {},
   "outputs": [],
   "source": []
  }
 ],
 "metadata": {
  "kernelspec": {
   "display_name": "Python 3 (ipykernel)",
   "language": "python",
   "name": "python3"
  },
  "language_info": {
   "codemirror_mode": {
    "name": "ipython",
    "version": 3
   },
   "file_extension": ".py",
   "mimetype": "text/x-python",
   "name": "python",
   "nbconvert_exporter": "python",
   "pygments_lexer": "ipython3",
   "version": "3.12.4"
  }
 },
 "nbformat": 4,
 "nbformat_minor": 5
}
